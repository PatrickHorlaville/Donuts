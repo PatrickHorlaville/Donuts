{
 "cells": [
  {
   "cell_type": "markdown",
   "metadata": {},
   "source": [
    "Problem statement: \n",
    "\n",
    "You are selling donuts' boxes of capacity 7 and 13. The customer orders a random number of donuts between 1 and 100. \n",
    "\n",
    "What is the probability that you can fulfill the order with your two types of boxes?"
   ]
  },
  {
   "cell_type": "code",
   "execution_count": 2,
   "metadata": {},
   "outputs": [],
   "source": [
    "#July 24th, 2020\n",
    "import numpy as n\n",
    "import matplotlib.pyplot as plt\n",
    "import os\n",
    "from itertools import islice \n",
    "import math"
   ]
  },
  {
   "cell_type": "code",
   "execution_count": 5,
   "metadata": {},
   "outputs": [],
   "source": [
    "#consider 13j+7k=i\n",
    "#k represents the number of boxes of 7 donuts needed along j boxes of 13 boxes to obtain i donuts total\n",
    "#i is between 1 and 100, j has to be < 9 since 9*13>100; so j is between 0 and 8\n",
    "#we let i run between 1 and 100, j from 0 to 8, and for each combination we compute k\n",
    "#we then order the list\n",
    "#remove the negative values, keep whole ones\n",
    "#make a list called results which compiles the number i of donuts for each solution found in k\n",
    "#probabilities of fulfilling the order if the length of results' list over 100\n",
    "\n",
    "def donuts(a,b,n1,n2): #interval from a to b, with multiples n1 and n2\n",
    "    k=[]\n",
    "    results=[]\n",
    "    j_range=math.floor((b-a+1)/n1)+1 #maximum value for j\n",
    "    \n",
    "    for i in range((b-a)+2):\n",
    "        if i>0:\n",
    "            for j in range(j_range):\n",
    "                k.append((i - n1*j)/n2) #here the k list is formed\n",
    "\n",
    "    length_to_split=[j_range for i in range((b-a+1))]\n",
    "\n",
    "    Input = iter(k) \n",
    "    Output = [list(islice(Input, elem)) for elem in length_to_split] #k list is ordered in sublists\n",
    "\n",
    "    for i in range(len(Output)):\n",
    "        for j in range(len(Output[i])):\n",
    "            if float(Output[i][j]).is_integer() is True and Output[i][j]>=0:\n",
    "                results.append(i+1) #results list is formed\n",
    "                \n",
    "    final_results = list(dict.fromkeys(results)) #remove possible redundant solutions\n",
    "    print(final_results) #print the list of numbers that satisfy initial conditions\n",
    "\n",
    "    probabilities = 100*(len(final_results)/(b-a+1))\n",
    "\n",
    "    return print('probabilities of fulfilling the order is of', probabilities, '%')"
   ]
  },
  {
   "cell_type": "code",
   "execution_count": 6,
   "metadata": {
    "scrolled": true
   },
   "outputs": [
    {
     "name": "stdout",
     "output_type": "stream",
     "text": [
      "[7, 13, 14, 20, 21, 26, 27, 28, 33, 34, 35, 39, 40, 41, 42, 46, 47, 48, 49, 52, 53, 54, 55, 56, 59, 60, 61, 62, 63, 65, 66, 67, 68, 69, 70, 72, 73, 74, 75, 76, 77, 78, 79, 80, 81, 82, 83, 84, 85, 86, 87, 88, 89, 90, 91, 92, 93, 94, 95, 96, 97, 98, 99, 100]\n",
      "probabilities of fulfilling the order is of 64.0 %\n"
     ]
    }
   ],
   "source": [
    "donuts(1,100,13,7)"
   ]
  },
  {
   "cell_type": "markdown",
   "metadata": {},
   "source": [
    "The list shown corresponds to each amount of donuts' order that can be fulfilled.\n",
    "\n",
    "Notice we can now select different parameters for the function donuts"
   ]
  },
  {
   "cell_type": "code",
   "execution_count": 10,
   "metadata": {},
   "outputs": [
    {
     "name": "stdout",
     "output_type": "stream",
     "text": [
      "[8, 13, 16, 21, 24, 26, 29, 32, 34, 37, 39, 40, 42, 45, 47, 48, 50, 52, 53, 55, 56, 58, 60, 61, 63, 64, 65, 66, 68, 69, 71, 72, 73, 74, 76, 77, 78, 79, 80, 81, 82, 84, 85, 86, 87, 88, 89, 90, 91, 92, 93, 94, 95, 96, 97, 98, 99, 100, 101, 102, 103, 104, 105, 106, 107, 108, 109, 110, 111, 112, 113, 114, 115, 116, 117, 118, 119, 120, 121, 122, 123, 124, 125, 126, 127, 128, 129, 130, 131, 132, 133, 134, 135, 136, 137, 138, 139, 140, 141, 142, 143, 144, 145, 146, 147, 148, 149, 150, 151, 152, 153, 154, 155, 156, 157, 158, 159, 160, 161, 162, 163, 164, 165, 166, 167, 168, 169, 170, 171, 172, 173, 174, 175, 176, 177, 178, 179, 180, 181, 182, 183, 184, 185, 186, 187, 188, 189, 190, 191, 192, 193, 194, 195, 196, 197, 198, 199, 200, 201, 202, 203, 204, 205, 206, 207, 208, 209, 210, 211, 212, 213, 214, 215, 216, 217, 218, 219, 220, 221, 222, 223, 224, 225, 226, 227, 228, 229, 230, 231, 232, 233, 234, 235, 236, 237, 238, 239, 240, 241, 242, 243, 244, 245, 246, 247, 248, 249, 250, 251, 252, 253, 254, 255, 256, 257, 258, 259, 260, 261, 262, 263, 264, 265, 266, 267, 268, 269, 270, 271, 272, 273, 274, 275, 276, 277, 278, 279, 280, 281, 282, 283, 284, 285, 286, 287, 288, 289, 290, 291, 292, 293, 294, 295, 296, 297, 298, 299, 300, 301, 302, 303, 304, 305, 306, 307, 308, 309, 310, 311, 312, 313, 314, 315, 316, 317, 318, 319, 320, 321, 322, 323, 324, 325, 326, 327, 328, 329, 330, 331, 332, 333, 334, 335, 336, 337, 338, 339, 340, 341, 342, 343, 344, 345, 346, 347, 348, 349, 350, 351, 352, 353, 354, 355, 356, 357, 358, 359, 360, 361, 362, 363, 364, 365, 366, 367, 368, 369, 370, 371, 372, 373, 374, 375, 376, 377, 378, 379, 380, 381, 382, 383, 384, 385, 386, 387, 388, 389, 390, 391, 392, 393, 394, 395, 396, 397, 398, 399, 400]\n",
      "probabilities of fulfilling the order is of 89.5 %\n"
     ]
    }
   ],
   "source": [
    "donuts(1,400,13,8)"
   ]
  },
  {
   "cell_type": "code",
   "execution_count": null,
   "metadata": {},
   "outputs": [],
   "source": []
  }
 ],
 "metadata": {
  "kernelspec": {
   "display_name": "Python 3",
   "language": "python",
   "name": "python3"
  },
  "language_info": {
   "codemirror_mode": {
    "name": "ipython",
    "version": 3
   },
   "file_extension": ".py",
   "mimetype": "text/x-python",
   "name": "python",
   "nbconvert_exporter": "python",
   "pygments_lexer": "ipython3",
   "version": "3.7.3"
  }
 },
 "nbformat": 4,
 "nbformat_minor": 2
}
